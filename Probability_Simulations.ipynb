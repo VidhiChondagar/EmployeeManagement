{
 "cells": [
  {
   "cell_type": "markdown",
   "id": "bd37145e",
   "metadata": {},
   "source": [
    "# Probability Simulations in Python\n",
    "This notebook contains probability simulations including coin tosses, dice rolls, conditional probability, and the Central Limit Theorem."
   ]
  },
  {
   "cell_type": "markdown",
   "id": "2f92f6c3",
   "metadata": {},
   "source": [
    "## 1. Coin Toss Simulation\n",
    "We simulate tossing a coin 10,000 times and calculate the probability of heads and tails."
   ]
  },
  {
   "cell_type": "code",
   "execution_count": null,
   "id": "5750ce90",
   "metadata": {},
   "outputs": [],
   "source": [
    "\n",
    "import random\n",
    "\n",
    "def coin_toss_simulation(trials=10000):\n",
    "    heads = sum(1 for _ in range(trials) if random.choice([\"H\", \"T\"]) == \"H\")\n",
    "    tails = trials - heads\n",
    "    return heads / trials, tails / trials\n",
    "\n",
    "coin_probs = coin_toss_simulation()\n",
    "print(f\"Probability of Heads: {coin_probs[0]:.4f}\")\n",
    "print(f\"Probability of Tails: {coin_probs[1]:.4f}\")\n",
    "    "
   ]
  },
  {
   "cell_type": "markdown",
   "id": "e9c7d252",
   "metadata": {},
   "source": [
    "## 2. Dice Roll Simulation\n",
    "We roll two dice 10,000 times and compute the probability of getting a sum of 7."
   ]
  },
  {
   "cell_type": "code",
   "execution_count": null,
   "id": "07d99fbe",
   "metadata": {},
   "outputs": [],
   "source": [
    "\n",
    "def dice_roll_simulation(trials=10000):\n",
    "    sum_7_count = sum(1 for _ in range(trials) if random.randint(1, 6) + random.randint(1, 6) == 7)\n",
    "    return sum_7_count / trials\n",
    "\n",
    "dice_prob = dice_roll_simulation()\n",
    "print(f\"Probability of rolling a sum of 7: {dice_prob:.4f}\")\n",
    "    "
   ]
  },
  {
   "cell_type": "markdown",
   "id": "4a8e1139",
   "metadata": {},
   "source": [
    "## 3. Probability of At Least One 6 in 10 Rolls\n",
    "We simulate rolling a die 10 times and estimate the probability of getting at least one '6'."
   ]
  },
  {
   "cell_type": "code",
   "execution_count": null,
   "id": "8ac68ecb",
   "metadata": {},
   "outputs": [],
   "source": [
    "\n",
    "def at_least_one_six(trials=10000):\n",
    "    success_count = sum(1 for _ in range(trials) if any(random.randint(1, 6) == 6 for _ in range(10)))\n",
    "    return success_count / trials\n",
    "\n",
    "one_six_prob = at_least_one_six()\n",
    "print(f\"Probability of getting at least one 6 in 10 rolls: {one_six_prob:.4f}\")\n",
    "    "
   ]
  },
  {
   "cell_type": "markdown",
   "id": "fa5061eb",
   "metadata": {},
   "source": [
    "## 4. Conditional Probability & Bayes' Theorem\n",
    "We estimate P(Red | Blue) when drawing balls from a bag with different colors."
   ]
  },
  {
   "cell_type": "code",
   "execution_count": null,
   "id": "beb537e1",
   "metadata": {},
   "outputs": [],
   "source": [
    "\n",
    "def ball_draw_simulation(trials=1000):\n",
    "    colors = [\"Red\"] * 5 + [\"Green\"] * 7 + [\"Blue\"] * 8\n",
    "    draws = [random.choice(colors) for _ in range(trials)]\n",
    "    red_given_blue = sum(1 for i in range(1, trials) if draws[i] == \"Red\" and draws[i-1] == \"Blue\") / sum(1 for i in range(1, trials) if draws[i-1] == \"Blue\")\n",
    "    return red_given_blue\n",
    "\n",
    "red_given_blue_prob = ball_draw_simulation()\n",
    "print(f\"P(Red | Blue): {red_given_blue_prob:.4f}\")\n",
    "    "
   ]
  },
  {
   "cell_type": "markdown",
   "id": "58ed2a54",
   "metadata": {},
   "source": [
    "## 5. Discrete Random Variable Statistics\n",
    "We generate a sample from a discrete probability distribution and compute its mean, variance, and standard deviation."
   ]
  },
  {
   "cell_type": "code",
   "execution_count": null,
   "id": "b2440046",
   "metadata": {},
   "outputs": [],
   "source": [
    "\n",
    "import numpy as np\n",
    "\n",
    "def discrete_random_variable(trials=1000):\n",
    "    values = [1, 2, 3]\n",
    "    probabilities = [0.25, 0.35, 0.4]\n",
    "    sample = np.random.choice(values, size=trials, p=probabilities)\n",
    "    return np.mean(sample), np.var(sample), np.std(sample)\n",
    "\n",
    "mean_x, var_x, std_x = discrete_random_variable()\n",
    "print(f\"Mean: {mean_x:.4f}, Variance: {var_x:.4f}, Standard Deviation: {std_x:.4f}\")\n",
    "    "
   ]
  },
  {
   "cell_type": "markdown",
   "id": "f5d48815",
   "metadata": {},
   "source": [
    "## 6. Exponential Distribution Simulation\n",
    "We generate 2,000 samples from an exponential distribution and visualize it."
   ]
  },
  {
   "cell_type": "code",
   "execution_count": null,
   "id": "4249deea",
   "metadata": {},
   "outputs": [],
   "source": [
    "\n",
    "import matplotlib.pyplot as plt\n",
    "import seaborn as sns\n",
    "\n",
    "def exponential_distribution_simulation(trials=2000, mean=5):\n",
    "    samples = np.random.exponential(scale=mean, size=trials)\n",
    "    plt.figure(figsize=(8, 5))\n",
    "    sns.histplot(samples, bins=30, kde=True, stat=\"density\")\n",
    "    plt.title(\"Exponential Distribution (λ=1/5)\")\n",
    "    plt.xlabel(\"Value\")\n",
    "    plt.ylabel(\"Density\")\n",
    "    plt.show()\n",
    "\n",
    "exponential_distribution_simulation()\n",
    "    "
   ]
  },
  {
   "cell_type": "markdown",
   "id": "4a269e10",
   "metadata": {},
   "source": [
    "## 7. Central Limit Theorem Simulation\n",
    "We demonstrate the CLT by taking 1,000 samples of size 30 from a uniform distribution and plotting the sample means."
   ]
  },
  {
   "cell_type": "code",
   "execution_count": null,
   "id": "a8c82d43",
   "metadata": {},
   "outputs": [],
   "source": [
    "\n",
    "def central_limit_theorem_simulation():\n",
    "    uniform_samples = np.random.uniform(0, 1, 10000)\n",
    "    sample_means = [np.mean(np.random.uniform(0, 1, 30)) for _ in range(1000)]\n",
    "    \n",
    "    fig, axes = plt.subplots(1, 2, figsize=(12, 5))\n",
    "    \n",
    "    sns.histplot(uniform_samples, bins=30, kde=True, ax=axes[0])\n",
    "    axes[0].set_title(\"Uniform Distribution\")\n",
    "    \n",
    "    sns.histplot(sample_means, bins=30, kde=True, ax=axes[1])\n",
    "    axes[1].set_title(\"Distribution of Sample Means (n=30)\")\n",
    "    \n",
    "    plt.show()\n",
    "\n",
    "central_limit_theorem_simulation()\n",
    "    "
   ]
  }
 ],
 "metadata": {},
 "nbformat": 4,
 "nbformat_minor": 5
}
